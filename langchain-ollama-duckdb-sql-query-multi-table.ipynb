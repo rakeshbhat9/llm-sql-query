{
 "cells": [
  {
   "cell_type": "markdown",
   "metadata": {},
   "source": [
    "## Steps:\n",
    "1. In the utils.py - Instantiate db with \n",
    "```python\n",
    "    db_name=\"dvdrental\" & include_tables = [\"actor\",\"film\",\"film_actor\"]\n",
    "```\n",
    "2. Initiliaze the LLM model.\n",
    "3. Create a first chain, which will take query and return SQL query using database table schema.\n",
    "4. Create a second chain which will take the SQL query as input from first chain, execute the query and provide the answer in natural language."
   ]
  },
  {
   "cell_type": "code",
   "execution_count": 2,
   "metadata": {},
   "outputs": [],
   "source": [
    "# langchain\n",
    "from langchain_core.runnables import RunnableLambda, RunnablePassthrough\n",
    "from langchain_community.chat_models import ChatOllama\n",
    "from langchain_core.output_parsers import StrOutputParser\n",
    "from langchain_core.prompts import ChatPromptTemplate\n",
    "\n",
    "# local utils\n",
    "from utils import db, get_schema, custom_str_parser, handle_error_query,camelcase_conditions"
   ]
  },
  {
   "cell_type": "code",
   "execution_count": 3,
   "metadata": {},
   "outputs": [],
   "source": [
    "# Langsmith - to debug LLM responses\n",
    "\n",
    "import os\n",
    "from dotenv import load_dotenv\n",
    "from langsmith import Client\n",
    "\n",
    "load_dotenv()\n",
    "\n",
    "lcs = os.getenv(\"LANGCHAIN_SECRET\")\n",
    "\n",
    "os.environ[\"LANGCHAIN_TRACING_V2\"] = \"true\"\n",
    "os.environ[\"LANGCHAIN_PROJECT\"] = \"langchain-ollama-sql\"\n",
    "os.environ[\"LANGCHAIN_ENDPOINT\"] = \"https://api.smith.langchain.com\"\n",
    "os.environ[\"LANGCHAIN_API_KEY\"] = lcs\n",
    "\n",
    "client = Client()"
   ]
  },
  {
   "cell_type": "markdown",
   "metadata": {},
   "source": [
    "## Load LLM and define chains"
   ]
  },
  {
   "cell_type": "code",
   "execution_count": 4,
   "metadata": {},
   "outputs": [],
   "source": [
    "# Add the LLM downloaded from Ollama\n",
    "ollama_llm = \"duckdb-nsql\"\n",
    "llm = ChatOllama(model=ollama_llm)\n",
    "\n",
    "llm_for_response = ChatOllama(model=\"mistral\")"
   ]
  },
  {
   "cell_type": "code",
   "execution_count": 5,
   "metadata": {},
   "outputs": [],
   "source": [
    "# ------------------------------------------------------------------------------------------------------------------------\n",
    "\n",
    "# first chain\n",
    "sql_chain_template = \"\"\"Based on the table schema below, write a SQL query that would answer the user's question.\n",
    "{schema}\n",
    "\n",
    "Question: {question}\n",
    "SQL Query:\"\"\"\n",
    "\n",
    "sql_chain_prompt = ChatPromptTemplate.from_messages(\n",
    "    [\n",
    "        (\n",
    "            \"system\",\n",
    "            \"Given an input question, convert it to a SQL query. \",\n",
    "        ),  \n",
    "        (\n",
    "            \"system\",\n",
    "            \"Respond with only the SQL query, nothing else.\",\n",
    "        ), \n",
    "\n",
    "        (\"human\", sql_chain_template),\n",
    "    ]\n",
    ")\n",
    "\n",
    "sql_chain = (\n",
    "    RunnablePassthrough.assign(schema=get_schema)\n",
    "    | sql_chain_prompt\n",
    "    | llm\n",
    "    | StrOutputParser()\n",
    "    | RunnableLambda(custom_str_parser)\n",
    "    | RunnableLambda(camelcase_conditions)\n",
    "\n",
    ")\n",
    "\n",
    "# ------------------------------------------------------------------------------------------------------------------------\n",
    "\n",
    "# second_chain\n",
    "template = \"\"\"Based on the table schema below, question, sql query, and sql response, write a natural language response:\n",
    "{schema}\n",
    "\n",
    "Question: {question}\n",
    "SQL Query: {query}\n",
    "SQL Response: {response}\"\"\"  # noqa: E501\n",
    "\n",
    "prompt_response = ChatPromptTemplate.from_messages(\n",
    "    [\n",
    "        (\n",
    "            \"system\",\n",
    "            \"Given an input question and SQL response, convert it to a natural \"\n",
    "            \"language answer. No pre-amble.\",\n",
    "        ),\n",
    "        (\"human\", template),\n",
    "    ]\n",
    ")\n",
    "\n",
    "sql_run_chain = (\n",
    "    RunnablePassthrough.assign(query=sql_chain)\n",
    "    | RunnablePassthrough.assign(\n",
    "        schema=get_schema, response=lambda x: handle_error_query(x)\n",
    "    )\n",
    "    | prompt_response\n",
    "    | llm_for_response\n",
    "    | StrOutputParser()\n",
    ")"
   ]
  },
  {
   "cell_type": "markdown",
   "metadata": {},
   "source": [
    "## Run Queries"
   ]
  },
  {
   "cell_type": "markdown",
   "metadata": {},
   "source": [
    "#### Test if langchain can access the database"
   ]
  },
  {
   "cell_type": "code",
   "execution_count": 5,
   "metadata": {},
   "outputs": [
    {
     "name": "stdout",
     "output_type": "stream",
     "text": [
      "\n",
      "CREATE TABLE actor (\n",
      "\tactor_id SERIAL NOT NULL, \n",
      "\tfirst_name VARCHAR(45) NOT NULL, \n",
      "\tlast_name VARCHAR(45) NOT NULL, \n",
      "\tlast_update TIMESTAMP WITHOUT TIME ZONE DEFAULT now() NOT NULL, \n",
      "\tCONSTRAINT actor_pkey PRIMARY KEY (actor_id)\n",
      ")\n",
      "\n",
      "\n",
      "CREATE TABLE film (\n",
      "\tfilm_id SERIAL NOT NULL, \n",
      "\ttitle VARCHAR(255) NOT NULL, \n",
      "\tdescription TEXT, \n",
      "\trelease_year INTEGER, \n",
      "\tlanguage_id SMALLINT NOT NULL, \n",
      "\trental_duration SMALLINT DEFAULT 3 NOT NULL, \n",
      "\trental_rate NUMERIC(4, 2) DEFAULT 4.99 NOT NULL, \n",
      "\tlength SMALLINT, \n",
      "\treplacement_cost NUMERIC(5, 2) DEFAULT 19.99 NOT NULL, \n",
      "\trating mpaa_rating DEFAULT 'G'::mpaa_rating, \n",
      "\tlast_update TIMESTAMP WITHOUT TIME ZONE DEFAULT now() NOT NULL, \n",
      "\tspecial_features TEXT[], \n",
      "\tfulltext TSVECTOR NOT NULL, \n",
      "\tCONSTRAINT film_pkey PRIMARY KEY (film_id), \n",
      "\tCONSTRAINT film_language_id_fkey FOREIGN KEY(language_id) REFERENCES language (language_id) ON DELETE RESTRICT ON UPDATE CASCADE\n",
      ")\n",
      "\n",
      "\n",
      "CREATE TABLE film_actor (\n",
      "\tactor_id SMALLINT NOT NULL, \n",
      "\tfilm_id SMALLINT NOT NULL, \n",
      "\tlast_update TIMESTAMP WITHOUT TIME ZONE DEFAULT now() NOT NULL, \n",
      "\tCONSTRAINT film_actor_pkey PRIMARY KEY (actor_id, film_id), \n",
      "\tCONSTRAINT film_actor_actor_id_fkey FOREIGN KEY(actor_id) REFERENCES actor (actor_id) ON DELETE RESTRICT ON UPDATE CASCADE, \n",
      "\tCONSTRAINT film_actor_film_id_fkey FOREIGN KEY(film_id) REFERENCES film (film_id) ON DELETE RESTRICT ON UPDATE CASCADE\n",
      ")\n"
     ]
    }
   ],
   "source": [
    "print(db.get_table_info())"
   ]
  },
  {
   "cell_type": "code",
   "execution_count": 6,
   "metadata": {},
   "outputs": [
    {
     "data": {
      "text/plain": [
       "\"[(1, 'Penelope', 'Guiness', datetime.datetime(2013, 5, 26, 14, 47, 57, 620000)), (2, 'Nick', 'Wahlberg', datetime.datetime(2013, 5, 26, 14, 47, 57, 620000)), (3, 'Ed', 'Chase', datetime.datetime(2013, 5, 26, 14, 47, 57, 620000)), (4, 'Jennifer', 'Davis', datetime.datetime(2013, 5, 26, 14, 47, 57, 620000)), (5, 'Johnny', 'Lollobrigida', datetime.datetime(2013, 5, 26, 14, 47, 57, 620000))]\""
      ]
     },
     "execution_count": 6,
     "metadata": {},
     "output_type": "execute_result"
    }
   ],
   "source": [
    "db.run(\"\"\"SELECT * FROM actor LIMIT 5\"\"\")"
   ]
  },
  {
   "cell_type": "code",
   "execution_count": 7,
   "metadata": {},
   "outputs": [
    {
     "data": {
      "text/plain": [
       "'[(0,)]'"
      ]
     },
     "execution_count": 7,
     "metadata": {},
     "output_type": "execute_result"
    }
   ],
   "source": [
    "db.run(\"\"\"SELECT COUNT(*) FROM actor WHERE last_name = 'Penelope' AND first_name IS NOT NULL;\"\"\")"
   ]
  },
  {
   "cell_type": "markdown",
   "metadata": {},
   "source": [
    "#### We can run the first chain independently to test 1. We are getting valid SQL queries 2. The format of response is correct i.e. just the query"
   ]
  },
  {
   "cell_type": "code",
   "execution_count": 7,
   "metadata": {},
   "outputs": [
    {
     "data": {
      "text/plain": [
       "' SELECT COUNT(*) FROM actor;'"
      ]
     },
     "execution_count": 7,
     "metadata": {},
     "output_type": "execute_result"
    }
   ],
   "source": [
    "sql_chain.invoke({\"question\": \"Give me count of actors\"})"
   ]
  },
  {
   "cell_type": "code",
   "execution_count": 6,
   "metadata": {},
   "outputs": [
    {
     "data": {
      "text/plain": [
       "\" SELECT COUNT(*) FROM film_actor WHERE actor_id = (SELECT actor_id FROM actor WHERE first_name = 'Penelope');\""
      ]
     },
     "execution_count": 6,
     "metadata": {},
     "output_type": "execute_result"
    }
   ],
   "source": [
    "sql_chain.invoke({\"question\": \"How many films has penelope starred in?\"})"
   ]
  },
  {
   "cell_type": "code",
   "execution_count": 6,
   "metadata": {},
   "outputs": [
    {
     "data": {
      "text/plain": [
       "\" SELECT COUNT(*) FROM film_actor WHERE actor_id = (SELECT actor_id FROM actor WHERE first_name = 'penelope' AND last_name = 'guisshot');\""
      ]
     },
     "execution_count": 6,
     "metadata": {},
     "output_type": "execute_result"
    }
   ],
   "source": [
    "sql_chain.invoke({\"question\": \"How many films has Penelope Guiness starred in?\"})"
   ]
  },
  {
   "cell_type": "code",
   "execution_count": 7,
   "metadata": {},
   "outputs": [
    {
     "data": {
      "text/plain": [
       "\" SELECT film.title FROM actor, film, film_actor WHERE actor.first_name = 'Penelope' AND actor.last_name = 'Guiss' AND film_actor.actor_id = actor.actor_id AND film.film_id = film_actor.film_id;\""
      ]
     },
     "execution_count": 7,
     "metadata": {},
     "output_type": "execute_result"
    }
   ],
   "source": [
    "sql_chain.invoke(\n",
    "    {\"question\": \"Can you give me some movie names where Penelope Guiness starred?\"}\n",
    ")"
   ]
  },
  {
   "cell_type": "code",
   "execution_count": 39,
   "metadata": {},
   "outputs": [
    {
     "data": {
      "text/plain": [
       "' SELECT \\n    film.title,\\n    COUNT(*) OVER (PARTITION BY film.release_year) AS release_year_breakdown\\nFROM \\n    film;'"
      ]
     },
     "execution_count": 39,
     "metadata": {},
     "output_type": "execute_result"
    }
   ],
   "source": [
    "sql_chain.invoke({\"question\": \"Give me breakdown of films by release year\"})"
   ]
  },
  {
   "cell_type": "code",
   "execution_count": 40,
   "metadata": {},
   "outputs": [
    {
     "data": {
      "text/plain": [
       "' SELECT COUNT(*) FROM film WHERE release_year = 2006;'"
      ]
     },
     "execution_count": 40,
     "metadata": {},
     "output_type": "execute_result"
    }
   ],
   "source": [
    "sql_chain.invoke({\"question\": \"How many films were released in 2006?\"})"
   ]
  },
  {
   "cell_type": "code",
   "execution_count": 41,
   "metadata": {},
   "outputs": [
    {
     "data": {
      "text/plain": [
       "\" SELECT title FROM film WHERE description LIKE '%robot%';\""
      ]
     },
     "execution_count": 41,
     "metadata": {},
     "output_type": "execute_result"
    }
   ],
   "source": [
    "sql_chain.invoke(\n",
    "    {\"question\": \"Going by the description, can you give me names of movies on robots?\"}\n",
    ")"
   ]
  },
  {
   "cell_type": "code",
   "execution_count": 42,
   "metadata": {},
   "outputs": [
    {
     "data": {
      "text/plain": [
       "\" SELECT title FROM film WHERE description LIKE '%Robot%';\""
      ]
     },
     "execution_count": 42,
     "metadata": {},
     "output_type": "execute_result"
    }
   ],
   "source": [
    "sql_chain.invoke(\n",
    "    {\"question\": \"Give me names of movies where description contains Robot\"}\n",
    ")"
   ]
  },
  {
   "cell_type": "code",
   "execution_count": null,
   "metadata": {},
   "outputs": [],
   "source": []
  },
  {
   "cell_type": "markdown",
   "metadata": {},
   "source": [
    "### Invoking the main second chain on same queries as above."
   ]
  },
  {
   "cell_type": "code",
   "execution_count": 43,
   "metadata": {},
   "outputs": [
    {
     "name": "stdout",
     "output_type": "stream",
     "text": [
      " The number of actors in the database is 200.\n"
     ]
    }
   ],
   "source": [
    "print(sql_run_chain.invoke({\"question\": \"Give me count of actors\"}))"
   ]
  },
  {
   "cell_type": "code",
   "execution_count": 44,
   "metadata": {},
   "outputs": [
    {
     "name": "stdout",
     "output_type": "stream",
     "text": [
      " Based on the given SQL query and response, there were no films found for the actor named Penelope. Therefore, the natural language answer is \"Penelope has not starred in any films based on the provided data.\"\n"
     ]
    }
   ],
   "source": [
    "print(sql_run_chain.invoke({\"question\": \"How many films has Penelope starred in?\"}))"
   ]
  },
  {
   "cell_type": "code",
   "execution_count": 9,
   "metadata": {},
   "outputs": [
    {
     "name": "stdout",
     "output_type": "stream",
     "text": [
      " Nick Wahlberg has starred in 25 films based on the data in the database.\n"
     ]
    }
   ],
   "source": [
    "print(\n",
    "    sql_run_chain.invoke(\n",
    "        {\"question\": \"How many films has Nick Wahlberg starred in?\"}\n",
    "    )\n",
    ")"
   ]
  },
  {
   "cell_type": "code",
   "execution_count": 10,
   "metadata": {},
   "outputs": [
    {
     "name": "stdout",
     "output_type": "stream",
     "text": [
      " The SQL query returned a list of movies where the actor Nick Wahlberg appeared. The names of these movies are \"Adaptation Holes\", \"Apache Divine\", \"Baby Hall\", \"Bull Shawshank\", \"Chainsaw Uptown\", \"Chisum Behavior\", \"Destiny Saturday\", \"Dracula Crystal\", \"Fight Jawbreaker\", \"Flash Wars\", \"Gilbert Pelican\", \"Goodfellas Salute\", \"Happiness United\", \"Indian Love\", \"Jekyll Frogmen\", \"Jersey Sassy\", \"Liaisons Sweet\", \"Lucky Flying\", \"Maguire Apache\", \"Mallrats United\", \"Mask Peach\", \"Roof Champion\", \"Rushmore Mermaid\", \"Smile Earring\", and \"Wardrobe Phantom\".\n"
     ]
    }
   ],
   "source": [
    "print(\n",
    "    sql_run_chain.invoke(\n",
    "        {\"question\": \"Can you give me some movie names where Nick Wahlberg starred?\"}\n",
    "    )\n",
    ")"
   ]
  },
  {
   "cell_type": "code",
   "execution_count": 11,
   "metadata": {},
   "outputs": [
    {
     "name": "stdout",
     "output_type": "stream",
     "text": [
      " It appears you have given a list of tuples, where each tuple contains a string for the title and two integers for the year and rating. Here's how you can access the elements of these tuples:\n",
      "\n",
      "```python\n",
      "movies = [('Adventures Raccoons', 2005, 9), ('Aeon Flux', 2005, 7), ('Afterlife Aspen', 2006, 8), ...]\n",
      "\n",
      "# Accessing the title\n",
      "title = movies[0][0]\n",
      "print(title) # 'Adventures Raccoons'\n",
      "\n",
      "# Accessing the year\n",
      "year = movies[0][1]\n",
      "print(year) # 2005\n",
      "\n",
      "# Accessing the rating\n",
      "rating = movies[0][2]\n",
      "print(rating) # 9\n",
      "```\n",
      "\n",
      "You can also use a for loop to iterate through the list and access each title, year, and rating:\n",
      "\n",
      "```python\n",
      "for movie in movies:\n",
      "    title, year, rating = movie\n",
      "    print('Title:', title)\n",
      "    print('Year:', year)\n",
      "    print('Rating:', rating)\n",
      "    print()\n",
      "```\n",
      "\n",
      "This will output each title, year, and rating on a separate line.\n"
     ]
    }
   ],
   "source": [
    "print(sql_run_chain.invoke({\"question\": \"Give me breakdown of films by release year\"}))"
   ]
  },
  {
   "cell_type": "code",
   "execution_count": 48,
   "metadata": {},
   "outputs": [
    {
     "name": "stdout",
     "output_type": "stream",
     "text": [
      " Based on the table schema and SQL query provided, here is a natural language response:\n",
      "\n",
      "The SQL query \"SELECT film.title FROM film WHERE film.description LIKE '%robot%'\" will return the titles of movies that have the word \"robot\" mentioned in their description. Therefore, the names of movies on robots, according to the table data, are those movies whose descriptions contain the keyword \"robot\".\n"
     ]
    }
   ],
   "source": [
    "print(\n",
    "    sql_run_chain.invoke(\n",
    "        {\n",
    "            \"question\": \"Going by the description, can you give me names of movies on robots?\"\n",
    "        }\n",
    "    )\n",
    ")"
   ]
  },
  {
   "cell_type": "code",
   "execution_count": 12,
   "metadata": {},
   "outputs": [
    {
     "name": "stdout",
     "output_type": "stream",
     "text": [
      " The SQL query returned a list of movie titles from the \"film\" table where the description contains the word \"Robot\". Here are the names of those movies: Agent Truman, Alley Evolution, Citizen Shrek, Control Anthem, Mine Titans, Rocketeer Mother, Rollercoaster Bringing, Unbreakable Karate, Wizard Coldblooded.\n"
     ]
    }
   ],
   "source": [
    "print(\n",
    "    sql_run_chain.invoke(\n",
    "        {\"question\": \"Give me names of movies where description contains Robot\"}\n",
    "    )\n",
    ")"
   ]
  },
  {
   "cell_type": "code",
   "execution_count": null,
   "metadata": {},
   "outputs": [],
   "source": []
  },
  {
   "cell_type": "code",
   "execution_count": null,
   "metadata": {},
   "outputs": [],
   "source": []
  },
  {
   "cell_type": "code",
   "execution_count": null,
   "metadata": {},
   "outputs": [],
   "source": []
  }
 ],
 "metadata": {
  "kernelspec": {
   "display_name": "test-lab-310",
   "language": "python",
   "name": "python3"
  },
  "language_info": {
   "codemirror_mode": {
    "name": "ipython",
    "version": 3
   },
   "file_extension": ".py",
   "mimetype": "text/x-python",
   "name": "python",
   "nbconvert_exporter": "python",
   "pygments_lexer": "ipython3",
   "version": "3.10.13"
  }
 },
 "nbformat": 4,
 "nbformat_minor": 2
}
