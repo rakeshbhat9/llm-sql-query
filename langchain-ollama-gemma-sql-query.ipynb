{
 "cells": [
  {
   "cell_type": "markdown",
   "metadata": {},
   "source": [
    "## Steps:\n",
    "1. In the utils.py - Instantiate db with \n",
    "```python\n",
    "    db_name=\"postgres\"\n",
    "```\n",
    "2. Initiliaze the LLM model.\n",
    "3. Create a first chain, which will take query and return SQL query using database table schema.\n",
    "4. Create a second chain which will take the SQL query as input from first chain, execute the query and provide the answer in natural language."
   ]
  },
  {
   "cell_type": "code",
   "execution_count": 1,
   "metadata": {},
   "outputs": [],
   "source": [
    "# langchain\n",
    "from langchain_core.runnables import RunnableLambda, RunnablePassthrough\n",
    "from langchain_community.chat_models import ChatOllama\n",
    "from langchain_core.output_parsers import StrOutputParser\n",
    "from langchain_core.prompts import ChatPromptTemplate\n",
    "\n",
    "# local utils\n",
    "from utils import db,get_schema, custom_str_parser, handle_error_query"
   ]
  },
  {
   "cell_type": "markdown",
   "metadata": {},
   "source": [
    "## Load LLM and define chains"
   ]
  },
  {
   "cell_type": "code",
   "execution_count": 2,
   "metadata": {},
   "outputs": [],
   "source": [
    "# Add the LLM downloaded from Ollama\n",
    "ollama_llm = \"gemma:7b\"\n",
    "llm = ChatOllama(model=ollama_llm)"
   ]
  },
  {
   "cell_type": "code",
   "execution_count": 3,
   "metadata": {},
   "outputs": [],
   "source": [
    "# ------------------------------------------------------------------------------------------------------------------------\n",
    "\n",
    "# first chain\n",
    "sql_chain_template = \"\"\"Based on the table schema below, write a SQL query that would answer the user's question:\n",
    "{schema}\n",
    "\n",
    "Question: {question}\n",
    "SQL Query:\"\"\"\n",
    "\n",
    "sql_chain_prompt = ChatPromptTemplate.from_messages(\n",
    "    [\n",
    "        (\n",
    "            \"system\",\n",
    "            \"Given an input question, convert it to a SQL query. \",\n",
    "        ),  # Brief context\n",
    "        (\n",
    "            \"system\",\n",
    "            \"Respond with only the SQL query, nothing else.\",\n",
    "        ),  # Emphasize desired output\n",
    "        (\"human\", sql_chain_template),\n",
    "    ]\n",
    ")\n",
    "\n",
    "sql_chain = (\n",
    "    RunnablePassthrough.assign(schema=get_schema)\n",
    "    | sql_chain_prompt\n",
    "    | llm.bind(stop=[\"\\nSQLResult:\"])\n",
    "    | StrOutputParser()\n",
    "    | RunnableLambda(custom_str_parser)\n",
    ")\n",
    "\n",
    "# ------------------------------------------------------------------------------------------------------------------------\n",
    "\n",
    "# second_chain\n",
    "template = \"\"\"Based on the table schema below, question, sql query, and sql response, write a natural language response:\n",
    "{schema}\n",
    "\n",
    "Question: {question}\n",
    "SQL Query: {query}\n",
    "SQL Response: {response}\"\"\"  # noqa: E501\n",
    "\n",
    "prompt_response = ChatPromptTemplate.from_messages(\n",
    "    [\n",
    "        (\n",
    "            \"system\",\n",
    "            \"Given an input question and SQL response, convert it to a natural \"\n",
    "            \"language answer. No pre-amble.\",\n",
    "        ),\n",
    "        (\"human\", template),\n",
    "    ]\n",
    ")\n",
    "\n",
    "sql_run_chain = (\n",
    "    RunnablePassthrough.assign(query=sql_chain)\n",
    "    | RunnablePassthrough.assign(\n",
    "        schema=get_schema, response=lambda x: handle_error_query(x)\n",
    "    )\n",
    "    | prompt_response\n",
    "    | llm\n",
    "    | StrOutputParser()\n",
    ")"
   ]
  },
  {
   "cell_type": "markdown",
   "metadata": {},
   "source": [
    "## Run Queries"
   ]
  },
  {
   "cell_type": "markdown",
   "metadata": {},
   "source": [
    "#### Test if langchain can access the database"
   ]
  },
  {
   "cell_type": "code",
   "execution_count": 4,
   "metadata": {},
   "outputs": [
    {
     "name": "stdout",
     "output_type": "stream",
     "text": [
      "\n",
      "CREATE TABLE bitcoin (\n",
      "\tindex BIGINT, \n",
      "\ttrade_date TEXT, \n",
      "\tvolume DOUBLE PRECISION, \n",
      "\tprice_usd DOUBLE PRECISION, \n",
      "\tprice_btc DOUBLE PRECISION, \n",
      "\tmarket_cap DOUBLE PRECISION, \n",
      "\tcapitalization_change_1_day DOUBLE PRECISION, \n",
      "\t\"USD_price_change_1_day\" DOUBLE PRECISION, \n",
      "\t\"BTC_price_change_1_day\" DOUBLE PRECISION, \n",
      "\tcrypto_name TEXT, \n",
      "\tcrypto_type DOUBLE PRECISION, \n",
      "\tticker TEXT, \n",
      "\tmax_supply DOUBLE PRECISION, \n",
      "\tsite_url TEXT, \n",
      "\tgithub_url TEXT, \n",
      "\tminable DOUBLE PRECISION, \n",
      "\tplatform_name TEXT, \n",
      "\tindustry_name TEXT\n",
      ")\n"
     ]
    }
   ],
   "source": [
    "print(db.get_table_info())"
   ]
  },
  {
   "cell_type": "code",
   "execution_count": 5,
   "metadata": {},
   "outputs": [
    {
     "data": {
      "text/plain": [
       "\"[(0, '2016-01-01', 36278900.0, 434.33, 1.0, 6529299589.0, 0.0, 0.0, 0.0, 'Bitcoin', 0.0, 'BTC', 21000000.0, 'https://bitcoin.org/', 'https://github.com/bitcoin/', 1.0, 'XRP', 'Proof of Work (PoW)'), (1, '2016-01-02', 30096600.0, 433.44, 1.0, 6517390487.0, -0.0018239478580617, -0.0020491331476066, 0.0, 'Bitcoin', 0.0, 'BTC', 21000000.0, 'https://bitcoin.org/', 'https://github.com/bitcoin/', 1.0, 'XRP', 'Proof of Work (PoW)'), (2, '2016-01-03', 39633800.0, 430.01, 1.0, 6467429942.0, -0.0076657283462844, -0.0079134366925065, 0.0, 'Bitcoin', 0.0, 'BTC', 21000000.0, 'https://bitcoin.org/', 'https://github.com/bitcoin/', 1.0, 'XRP', 'Proof of Work (PoW)'), (3, '2016-01-04', 38477500.0, 433.09, 1.0, 6515713340.0, 0.0074656236608678, 0.0071626241250203, 0.0, 'Bitcoin', 0.0, 'BTC', 21000000.0, 'https://bitcoin.org/', 'https://github.com/bitcoin/', 1.0, 'XRP', 'Proof of Work (PoW)'), (4, '2016-01-05', 34522600.0, 431.96, 1.0, 6500393256.0, -0.0023512519966079, -0.0026091574499527, 0.0, 'Bitcoin', 0.0, 'BTC', 21000000.0, 'https://bitcoin.org/', 'https://github.com/bitcoin/', 1.0, 'XRP', 'Proof of Work (PoW)')]\""
      ]
     },
     "execution_count": 5,
     "metadata": {},
     "output_type": "execute_result"
    }
   ],
   "source": [
    "db.run(\"\"\"SELECT * FROM bitcoin LIMIT 5\"\"\")"
   ]
  },
  {
   "cell_type": "markdown",
   "metadata": {},
   "source": [
    "#### We can run the first chain independently to test 1. We are getting valid SQL queries 2. The format of response is correct i.e. just the query"
   ]
  },
  {
   "cell_type": "code",
   "execution_count": 6,
   "metadata": {},
   "outputs": [
    {
     "data": {
      "text/plain": [
       "'SELECT platform_name\\nFROM bitcoin\\nGROUP BY platform_name'"
      ]
     },
     "execution_count": 6,
     "metadata": {},
     "output_type": "execute_result"
    }
   ],
   "source": [
    "sql_chain.invoke({\"question\": \"Give me list of platform names\"})"
   ]
  },
  {
   "cell_type": "code",
   "execution_count": 35,
   "metadata": {},
   "outputs": [
    {
     "data": {
      "text/plain": [
       "'SELECT industry_name\\nFROM bitcoin\\nGROUP BY industry_name'"
      ]
     },
     "execution_count": 35,
     "metadata": {},
     "output_type": "execute_result"
    }
   ],
   "source": [
    "sql_chain.invoke({\"question\": \"Give me list of industry names from the table.\"})"
   ]
  },
  {
   "cell_type": "code",
   "execution_count": 57,
   "metadata": {},
   "outputs": [
    {
     "data": {
      "text/plain": [
       "\"SELECT MAX(capitalization_change_1_day) AS biggest_1_day_cap_change\\nFROM bitcoin\\nWHERE crypto_name = 'Bitcoin'\\nGROUP BY trade_date\""
      ]
     },
     "execution_count": 57,
     "metadata": {},
     "output_type": "execute_result"
    }
   ],
   "source": [
    "sql_chain.invoke({\"question\": \"What was the biggest 1 day capitalization change for Bitcoin crypto?\"})"
   ]
  },
  {
   "cell_type": "code",
   "execution_count": 58,
   "metadata": {},
   "outputs": [
    {
     "data": {
      "text/plain": [
       "'SELECT crypto_name\\nFROM bitcoin\\nGROUP BY crypto_name\\nORDER BY market_cap\\nLIMIT 5;'"
      ]
     },
     "execution_count": 58,
     "metadata": {},
     "output_type": "execute_result"
    }
   ],
   "source": [
    "sql_chain.invoke({\"question\": \"Give me top five crypto names by market_cap\"})"
   ]
  },
  {
   "cell_type": "code",
   "execution_count": 76,
   "metadata": {},
   "outputs": [
    {
     "data": {
      "text/plain": [
       "\"SELECT COUNT(*) AS num_trades\\nFROM bitcoin\\nWHERE industry_name = 'Media'\""
      ]
     },
     "execution_count": 76,
     "metadata": {},
     "output_type": "execute_result"
    }
   ],
   "source": [
    "sql_chain.invoke({\"question\": \"Give me number of trades for Media industry\"})"
   ]
  },
  {
   "cell_type": "code",
   "execution_count": 79,
   "metadata": {},
   "outputs": [
    {
     "data": {
      "text/plain": [
       "\"SELECT COUNT(*) AS num_trades\\nFROM bitcoin\\nWHERE platform_name = 'Binance Chain'\""
      ]
     },
     "execution_count": 79,
     "metadata": {},
     "output_type": "execute_result"
    }
   ],
   "source": [
    "sql_chain.invoke({\"question\": \"Give me number of trades for Binance Chain platform\"})"
   ]
  },
  {
   "cell_type": "markdown",
   "metadata": {},
   "source": [
    "### Invoking the main second chain on same queries as above."
   ]
  },
  {
   "cell_type": "code",
   "execution_count": 23,
   "metadata": {},
   "outputs": [
    {
     "name": "stdout",
     "output_type": "stream",
     "text": [
      "Sure, here is the natural language answer:\n",
      "\n",
      "The platform names listed in the \"bitcoin\" table are:\n",
      "\n",
      "Ardor, Binance Chain, Binance Coin, BitShares, Chiliz, EOS, Fusion, GXChain, Icon, INT Chain, Klaytn, Komodo, NEM, NuBits, NXT, Ontology, PIVX, Polkadot [IOU], Qtum, RSK Smart Bitcoin, TomoChain, Tron, Ubiq, undefined, VeChain, Vechain [Token], VITE, V Systems, Wanchain, Waves, XRP, Zilliqa\n"
     ]
    }
   ],
   "source": [
    "print(sql_run_chain.invoke({\"question\": \"Give me list of platform names\"}))"
   ]
  },
  {
   "cell_type": "code",
   "execution_count": 7,
   "metadata": {},
   "outputs": [
    {
     "name": "stdout",
     "output_type": "stream",
     "text": [
      "Sure, here is the natural language answer:\n",
      "\n",
      "The industry names from the table are:\n",
      "\n",
      "- Abandoned\n",
      "- Advertising\n",
      "- AI\n",
      "- Art\n",
      "- Business Service\n",
      "- Cannabis\n",
      "- Communication\n",
      "- Computing\n",
      "- Crowdfunding\n",
      "- eCommerce\n",
      "- Education\n",
      "- Energy\n",
      "- Entertainment\n",
      "- Exchange\n",
      "- Gambling\n",
      "- Gaming\n",
      "- Healthcare\n",
      "- Identity\n",
      "- IoT\n",
      "- Marketplace\n",
      "- Media\n",
      "- Prediction\n",
      "- Privacy\n",
      "- Proof of Stake (PoS)\n",
      "- Proof of Work (PoW)\n",
      "- Real Estate\n",
      "- Social\n",
      "- Software\n",
      "- Stablecoin\n",
      "- Storage\n",
      "- Transportation\n",
      "- Travel\n"
     ]
    }
   ],
   "source": [
    "print(sql_run_chain.invoke({\"question\": \"Give me list of industry names from the table.\"}))"
   ]
  },
  {
   "cell_type": "code",
   "execution_count": 74,
   "metadata": {},
   "outputs": [
    {
     "name": "stdout",
     "output_type": "stream",
     "text": [
      "Sure, here is the natural language answer:\n",
      "\n",
      "The biggest 1-day capitalization change for Bitcoin crypto was 0.25261403326156.\n"
     ]
    }
   ],
   "source": [
    "print(sql_run_chain.invoke({\"question\": \"What was the biggest 1 day capitalization change for Bitcoin crypto?\"}))"
   ]
  },
  {
   "cell_type": "code",
   "execution_count": 78,
   "metadata": {},
   "outputs": [
    {
     "name": "stdout",
     "output_type": "stream",
     "text": [
      "Sure, here is the natural language answer:\n",
      "\n",
      "The SQL query returned a result of 653 trades for the Media industry.\n"
     ]
    }
   ],
   "source": [
    "print(sql_run_chain.invoke({\"question\": \"Give me number of trades for Media industry\"}))"
   ]
  },
  {
   "cell_type": "code",
   "execution_count": 80,
   "metadata": {},
   "outputs": [
    {
     "name": "stdout",
     "output_type": "stream",
     "text": [
      "Sure, here is the natural language answer:\n",
      "\n",
      "The provided SQL query returns the number of trades for the Binance Chain platform. The query selects the count of all rows in the `bitcoin` table where the `platform_name` column is equal to 'Binance Chain'. The result of the query is a single row with a single column called `num_trades` containing the number of trades for the platform, which is 1291.\n"
     ]
    }
   ],
   "source": [
    "print(sql_run_chain.invoke({\"question\": \"Give me number of trades for Binance Chain platform\"}))"
   ]
  },
  {
   "cell_type": "code",
   "execution_count": null,
   "metadata": {},
   "outputs": [],
   "source": []
  }
 ],
 "metadata": {
  "kernelspec": {
   "display_name": "test-lab-310",
   "language": "python",
   "name": "python3"
  },
  "language_info": {
   "codemirror_mode": {
    "name": "ipython",
    "version": 3
   },
   "file_extension": ".py",
   "mimetype": "text/x-python",
   "name": "python",
   "nbconvert_exporter": "python",
   "pygments_lexer": "ipython3",
   "version": "3.10.13"
  }
 },
 "nbformat": 4,
 "nbformat_minor": 2
}
