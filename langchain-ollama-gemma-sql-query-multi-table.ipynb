{
 "cells": [
  {
   "cell_type": "markdown",
   "metadata": {},
   "source": [
    "## Steps:\n",
    "1. In the utils.py - Instantiate db with \n",
    "```python\n",
    "    db_name=\"dvdrental\" & include_tables = [\"actor\",\"film\",\"film_actor\"]\n",
    "```\n",
    "2. Initiliaze the LLM model.\n",
    "3. Create a first chain, which will take query and return SQL query using database table schema.\n",
    "4. Create a second chain which will take the SQL query as input from first chain, execute the query and provide the answer in natural language."
   ]
  },
  {
   "cell_type": "code",
   "execution_count": 1,
   "metadata": {},
   "outputs": [],
   "source": [
    "# langchain\n",
    "from langchain_core.runnables import RunnableLambda, RunnablePassthrough\n",
    "from langchain_community.chat_models import ChatOllama\n",
    "from langchain_core.output_parsers import StrOutputParser\n",
    "from langchain_core.prompts import ChatPromptTemplate\n",
    "\n",
    "# local utils\n",
    "from utils import db, get_schema, custom_str_parser, handle_error_query"
   ]
  },
  {
   "cell_type": "markdown",
   "metadata": {},
   "source": [
    "## Load LLM and define chains"
   ]
  },
  {
   "cell_type": "code",
   "execution_count": 2,
   "metadata": {},
   "outputs": [],
   "source": [
    "# Add the LLM downloaded from Ollama\n",
    "ollama_llm = \"gemma:7b\"\n",
    "llm = ChatOllama(model=ollama_llm)"
   ]
  },
  {
   "cell_type": "code",
   "execution_count": 3,
   "metadata": {},
   "outputs": [],
   "source": [
    "# ------------------------------------------------------------------------------------------------------------------------\n",
    "\n",
    "# first chain\n",
    "sql_chain_template = \"\"\"Based on the table schema below, write a SQL query that would answer the user's question:\n",
    "{schema}\n",
    "\n",
    "Question: {question}\n",
    "SQL Query:\"\"\"\n",
    "\n",
    "sql_chain_prompt = ChatPromptTemplate.from_messages(\n",
    "    [\n",
    "        (\n",
    "            \"system\",\n",
    "            \"Given an input question, convert it to a SQL query. \",\n",
    "        ),  # Brief context\n",
    "        (\n",
    "            \"system\",\n",
    "            \"Respond with only the SQL query, nothing else.\",\n",
    "        ),  # Emphasize desired output\n",
    "        (\"human\", sql_chain_template),\n",
    "    ]\n",
    ")\n",
    "\n",
    "sql_chain = (\n",
    "    RunnablePassthrough.assign(schema=get_schema)\n",
    "    | sql_chain_prompt\n",
    "    | llm.bind(stop=[\"\\nSQLResult:\"])\n",
    "    | StrOutputParser()\n",
    "    | RunnableLambda(custom_str_parser)\n",
    ")\n",
    "\n",
    "# ------------------------------------------------------------------------------------------------------------------------\n",
    "\n",
    "# second_chain\n",
    "template = \"\"\"Based on the table schema below, question, sql query, and sql response, write a natural language response:\n",
    "{schema}\n",
    "\n",
    "Question: {question}\n",
    "SQL Query: {query}\n",
    "SQL Response: {response}\"\"\"  # noqa: E501\n",
    "\n",
    "prompt_response = ChatPromptTemplate.from_messages(\n",
    "    [\n",
    "        (\n",
    "            \"system\",\n",
    "            \"Given an input question and SQL response, convert it to a natural \"\n",
    "            \"language answer. No pre-amble.\",\n",
    "        ),\n",
    "        (\"human\", template),\n",
    "    ]\n",
    ")\n",
    "\n",
    "sql_run_chain = (\n",
    "    RunnablePassthrough.assign(query=sql_chain)\n",
    "    | RunnablePassthrough.assign(\n",
    "        schema=get_schema, response=lambda x: handle_error_query(x)\n",
    "    )\n",
    "    | prompt_response\n",
    "    | llm\n",
    "    | StrOutputParser()\n",
    ")"
   ]
  },
  {
   "cell_type": "markdown",
   "metadata": {},
   "source": [
    "## Run Queries"
   ]
  },
  {
   "cell_type": "markdown",
   "metadata": {},
   "source": [
    "#### Test if langchain can access the database"
   ]
  },
  {
   "cell_type": "code",
   "execution_count": 4,
   "metadata": {},
   "outputs": [
    {
     "name": "stdout",
     "output_type": "stream",
     "text": [
      "\n",
      "CREATE TABLE actor (\n",
      "\tactor_id SERIAL NOT NULL, \n",
      "\tfirst_name VARCHAR(45) NOT NULL, \n",
      "\tlast_name VARCHAR(45) NOT NULL, \n",
      "\tlast_update TIMESTAMP WITHOUT TIME ZONE DEFAULT now() NOT NULL, \n",
      "\tCONSTRAINT actor_pkey PRIMARY KEY (actor_id)\n",
      ")\n",
      "\n",
      "\n",
      "CREATE TABLE film (\n",
      "\tfilm_id SERIAL NOT NULL, \n",
      "\ttitle VARCHAR(255) NOT NULL, \n",
      "\tdescription TEXT, \n",
      "\trelease_year INTEGER, \n",
      "\tlanguage_id SMALLINT NOT NULL, \n",
      "\trental_duration SMALLINT DEFAULT 3 NOT NULL, \n",
      "\trental_rate NUMERIC(4, 2) DEFAULT 4.99 NOT NULL, \n",
      "\tlength SMALLINT, \n",
      "\treplacement_cost NUMERIC(5, 2) DEFAULT 19.99 NOT NULL, \n",
      "\trating mpaa_rating DEFAULT 'G'::mpaa_rating, \n",
      "\tlast_update TIMESTAMP WITHOUT TIME ZONE DEFAULT now() NOT NULL, \n",
      "\tspecial_features TEXT[], \n",
      "\tfulltext TSVECTOR NOT NULL, \n",
      "\tCONSTRAINT film_pkey PRIMARY KEY (film_id), \n",
      "\tCONSTRAINT film_language_id_fkey FOREIGN KEY(language_id) REFERENCES language (language_id) ON DELETE RESTRICT ON UPDATE CASCADE\n",
      ")\n",
      "\n",
      "\n",
      "CREATE TABLE film_actor (\n",
      "\tactor_id SMALLINT NOT NULL, \n",
      "\tfilm_id SMALLINT NOT NULL, \n",
      "\tlast_update TIMESTAMP WITHOUT TIME ZONE DEFAULT now() NOT NULL, \n",
      "\tCONSTRAINT film_actor_pkey PRIMARY KEY (actor_id, film_id), \n",
      "\tCONSTRAINT film_actor_actor_id_fkey FOREIGN KEY(actor_id) REFERENCES actor (actor_id) ON DELETE RESTRICT ON UPDATE CASCADE, \n",
      "\tCONSTRAINT film_actor_film_id_fkey FOREIGN KEY(film_id) REFERENCES film (film_id) ON DELETE RESTRICT ON UPDATE CASCADE\n",
      ")\n"
     ]
    }
   ],
   "source": [
    "print(db.get_table_info())"
   ]
  },
  {
   "cell_type": "code",
   "execution_count": 5,
   "metadata": {},
   "outputs": [
    {
     "data": {
      "text/plain": [
       "\"[(1, 'Penelope', 'Guiness', datetime.datetime(2013, 5, 26, 14, 47, 57, 620000)), (2, 'Nick', 'Wahlberg', datetime.datetime(2013, 5, 26, 14, 47, 57, 620000)), (3, 'Ed', 'Chase', datetime.datetime(2013, 5, 26, 14, 47, 57, 620000)), (4, 'Jennifer', 'Davis', datetime.datetime(2013, 5, 26, 14, 47, 57, 620000)), (5, 'Johnny', 'Lollobrigida', datetime.datetime(2013, 5, 26, 14, 47, 57, 620000))]\""
      ]
     },
     "execution_count": 5,
     "metadata": {},
     "output_type": "execute_result"
    }
   ],
   "source": [
    "db.run(\"\"\"SELECT * FROM actor LIMIT 5\"\"\")"
   ]
  },
  {
   "cell_type": "markdown",
   "metadata": {},
   "source": [
    "#### We can run the first chain independently to test 1. We are getting valid SQL queries 2. The format of response is correct i.e. just the query"
   ]
  },
  {
   "cell_type": "code",
   "execution_count": 6,
   "metadata": {},
   "outputs": [
    {
     "data": {
      "text/plain": [
       "'SELECT COUNT(*) AS actor_count\\nFROM actor;'"
      ]
     },
     "execution_count": 6,
     "metadata": {},
     "output_type": "execute_result"
    }
   ],
   "source": [
    "sql_chain.invoke({\"question\": \"Give me count of actors\"})"
   ]
  },
  {
   "cell_type": "code",
   "execution_count": 7,
   "metadata": {},
   "outputs": [
    {
     "data": {
      "text/plain": [
       "\"SELECT COUNT(*) AS num_films\\nFROM film_actor\\nWHERE actor_id = (SELECT actor_id FROM actor WHERE first_name = 'Penelope' AND last_name = 'Cruise')\\nGROUP BY actor_id\""
      ]
     },
     "execution_count": 7,
     "metadata": {},
     "output_type": "execute_result"
    }
   ],
   "source": [
    "sql_chain.invoke({\"question\": \"How many films has Penelope starred in?\"})"
   ]
  },
  {
   "cell_type": "code",
   "execution_count": 8,
   "metadata": {},
   "outputs": [
    {
     "data": {
      "text/plain": [
       "\"SELECT COUNT(*) AS num_films\\nFROM film_actor\\nINNER JOIN actor ON film_actor.actor_id = actor.actor_id\\nWHERE actor.first_name = 'Penelope' AND actor.last_name = 'Guiness'\""
      ]
     },
     "execution_count": 8,
     "metadata": {},
     "output_type": "execute_result"
    }
   ],
   "source": [
    "sql_chain.invoke({\"question\": \"How many films has Penelope Guiness starred in?\"})"
   ]
  },
  {
   "cell_type": "code",
   "execution_count": 9,
   "metadata": {},
   "outputs": [
    {
     "data": {
      "text/plain": [
       "\"SELECT f.title\\nFROM film_actor fa\\nINNER JOIN film f ON fa.film_id = f.film_id\\nINNER JOIN actor a ON fa.actor_id = a.actor_id\\nWHERE a.first_name = 'Penelope' AND a.last_name = 'Guiness'\""
      ]
     },
     "execution_count": 9,
     "metadata": {},
     "output_type": "execute_result"
    }
   ],
   "source": [
    "sql_chain.invoke(\n",
    "    {\"question\": \"Can you give me some movie names where Penelope Guiness starred?\"}\n",
    ")"
   ]
  },
  {
   "cell_type": "code",
   "execution_count": 10,
   "metadata": {},
   "outputs": [
    {
     "data": {
      "text/plain": [
       "'SELECT release_year, COUNT(*) AS num_films\\nFROM film\\nGROUP BY release_year'"
      ]
     },
     "execution_count": 10,
     "metadata": {},
     "output_type": "execute_result"
    }
   ],
   "source": [
    "sql_chain.invoke({\"question\": \"Give me breakdown of films by release year\"})"
   ]
  },
  {
   "cell_type": "code",
   "execution_count": 11,
   "metadata": {},
   "outputs": [
    {
     "data": {
      "text/plain": [
       "'SELECT COUNT(*) AS num_films\\nFROM film\\nWHERE release_year = 2006;'"
      ]
     },
     "execution_count": 11,
     "metadata": {},
     "output_type": "execute_result"
    }
   ],
   "source": [
    "sql_chain.invoke({\"question\": \"How many films were released in 2006?\"})"
   ]
  },
  {
   "cell_type": "code",
   "execution_count": 12,
   "metadata": {},
   "outputs": [
    {
     "data": {
      "text/plain": [
       "\"SELECT f.title\\nFROM film f\\nINNER JOIN film_actor fa ON f.film_id = fa.film_id\\nINNER JOIN actor a ON fa.actor_id = a.actor_id\\nWHERE a.first_name = 'Will' OR a.last_name = 'Smith'\""
      ]
     },
     "execution_count": 12,
     "metadata": {},
     "output_type": "execute_result"
    }
   ],
   "source": [
    "sql_chain.invoke(\n",
    "    {\"question\": \"Going by the description, can you give me names of movies on robots?\"}\n",
    ")"
   ]
  },
  {
   "cell_type": "code",
   "execution_count": 13,
   "metadata": {},
   "outputs": [
    {
     "data": {
      "text/plain": [
       "\"SELECT f.title\\nFROM film f\\nINNER JOIN film_actor fa ON f.film_id = fa.film_id\\nINNER JOIN actor a ON fa.actor_id = a.actor_id\\nWHERE f.description LIKE '%Robot%'\""
      ]
     },
     "execution_count": 13,
     "metadata": {},
     "output_type": "execute_result"
    }
   ],
   "source": [
    "sql_chain.invoke(\n",
    "    {\"question\": \"Give me names of movies where description contains Robot\"}\n",
    ")"
   ]
  },
  {
   "cell_type": "code",
   "execution_count": null,
   "metadata": {},
   "outputs": [],
   "source": []
  },
  {
   "cell_type": "markdown",
   "metadata": {},
   "source": [
    "### Invoking the main second chain on same queries as above."
   ]
  },
  {
   "cell_type": "code",
   "execution_count": 16,
   "metadata": {},
   "outputs": [
    {
     "name": "stdout",
     "output_type": "stream",
     "text": [
      "Sure, here is the natural language answer:\n",
      "\n",
      "The query \"SELECT COUNT(*) AS actor_count FROM actor\" returns a single result, which is the count of actors in the database. The result is returned in a single row with a single column named \"actor_count\" and the value is 200.\n"
     ]
    }
   ],
   "source": [
    "print(sql_run_chain.invoke({\"question\": \"Give me count of actors\"}))"
   ]
  },
  {
   "cell_type": "code",
   "execution_count": 17,
   "metadata": {},
   "outputs": [
    {
     "name": "stdout",
     "output_type": "stream",
     "text": [
      "Sure, here is the natural language answer:\n",
      "\n",
      "Penelope Cruz has starred in a total of [num_films] films. This information is retrieved by querying the film_actor table, which associates actors with their respective films. The query selects the count of films for each actor, where the actor's first name and last name match Penelope Cruz. The results of the query are grouped by actor ID, and the total number of films for each actor is returned as the num_films value.\n"
     ]
    }
   ],
   "source": [
    "print(sql_run_chain.invoke({\"question\": \"How many films has Penelope starred in?\"}))"
   ]
  },
  {
   "cell_type": "code",
   "execution_count": 18,
   "metadata": {},
   "outputs": [
    {
     "name": "stdout",
     "output_type": "stream",
     "text": [
      "Sure, here is the natural language answer:\n",
      "\n",
      "Penelope Guiness has starred in a total of nineteen films. This information is available in the film_actor table, which joins the actor and film tables to link actors with their respective films. The query selected the count of films for each actor, and the result showed that Penelope Guiness has starred in a total of nineteen films.\n"
     ]
    }
   ],
   "source": [
    "print(\n",
    "    sql_run_chain.invoke(\n",
    "        {\"question\": \"How many films has Penelope Guiness starred in?\"}\n",
    "    )\n",
    ")"
   ]
  },
  {
   "cell_type": "code",
   "execution_count": 19,
   "metadata": {},
   "outputs": [
    {
     "name": "stdout",
     "output_type": "stream",
     "text": [
      "Sure, here is the natural language answer based on the provided information:\n",
      "\n",
      "Penelope Guinness has starred in several movies. Based on the data available, the SQL query retrieved a list of movie names where she starred. The results show that Penelope Guinness starred in movies such as \"Untitled.\"\n"
     ]
    }
   ],
   "source": [
    "print(\n",
    "    sql_run_chain.invoke(\n",
    "        {\"question\": \"Can you give me some movie names where Penelope Guiness starred?\"}\n",
    "    )\n",
    ")"
   ]
  },
  {
   "cell_type": "code",
   "execution_count": 20,
   "metadata": {},
   "outputs": [
    {
     "name": "stdout",
     "output_type": "stream",
     "text": [
      "Sure, here is the natural language answer:\n",
      "\n",
      "The provided text describes a relational database schema with three tables: `actor`, `film`, and `film_actor`. This schema defines relationships between actors, films, and their involvement in various films.\n",
      "\n",
      "The question asked is to provide a breakdown of films by release year. To answer this, an SQL query is written to group films by their release year and count the number of films for each year. The query results in a single row, with the release year and the number of films released in that year.\n",
      "\n",
      "The SQL response shows that there is only one release year in the database: 2006, with a total of 1000 films released in that year.\n"
     ]
    }
   ],
   "source": [
    "print(sql_run_chain.invoke({\"question\": \"Give me breakdown of films by release year\"}))"
   ]
  },
  {
   "cell_type": "code",
   "execution_count": 21,
   "metadata": {},
   "outputs": [
    {
     "name": "stdout",
     "output_type": "stream",
     "text": [
      "Sure, here is the natural language answer:\n",
      "\n",
      "Based on the provided table schema and the question, the SQL query aims to find movies in which Will Smith has starred. The query joins the `film`, `film_actor`, and `actor` tables to associate movies with actors. The query filters actors by first name and last name, ensuring that only movies associated with Will Smith are retrieved. The result of the query is a list of movie titles.\n"
     ]
    }
   ],
   "source": [
    "print(\n",
    "    sql_run_chain.invoke(\n",
    "        {\n",
    "            \"question\": \"Going by the description, can you give me names of movies on robots?\"\n",
    "        }\n",
    "    )\n",
    ")"
   ]
  },
  {
   "cell_type": "code",
   "execution_count": 22,
   "metadata": {},
   "outputs": [
    {
     "name": "stdout",
     "output_type": "stream",
     "text": [
      "Sure, here is the natural language answer:\n",
      "\n",
      "The SQL query you provided is to find movies where the description contains the word \"Robot.\" The result of the query is a list of movie titles, which are:\n",
      "\n",
      "- Agent Truman\n",
      "- Alley Evolution\n",
      "- Angels Life\n",
      "- Artist Coldblooded\n",
      "- Beauty Grease\n",
      "- Bedazzled Married\n",
      "- Blindness Gun\n",
      "- Bonnie Holocaust\n",
      "- Bride Intrigue\n",
      "- Caddyshack Jedi\n",
      "- California Birds\n",
      "- Campus Remember\n",
      "- Casper Dragonfly\n",
      "- Chainsaw Uptown\n",
      "- Chariots Conspiracy\n",
      "- Citizen Shrek\n",
      "- Clones Pinocchio\n",
      "- Control Anthem\n",
      "- Crossing Divorce\n",
      "- Dalmations Sweden\n",
      "- Dares Pluto\n",
      "- Dinosaur Secretary\n",
      "- Fiction Christmas\n",
      "- Flatliners Killer\n",
      "- Floats Garden\n",
      "- Grapes Fury\n",
      "- Greatest North\n",
      "- Gunfighter Mussolini\n",
      "- Hamlet Wisdom\n",
      "- Hollow Jeopardy\n",
      "- Holocaust Highball\n",
      "- Hustler Party\n",
      "- Illusion Amelie\n",
      "- Insider Arizona\n",
      "- Kane Exorcist\n",
      "- Kick Savannah\n",
      "- Kiss Glory\n",
      "- Kramer Chocolate\n",
      "- Lolita World\n",
      "- Loser Hustler\n",
      "- Lost Bird\n",
      "- Lover Truman\n",
      "- Luke Mummy\n",
      "- Mask Peach\n",
      "- Mine Titans\n",
      "- Money Harold\n",
      "- Nightmare Chill\n",
      "- North Tequila\n",
      "- Patriot Roman\n",
      "- Pizza Jumanji\n",
      "- President Bang\n",
      "- Resurrection Silverado\n",
      "- Robbery Bright\n",
      "- Rock Instinct\n",
      "- Rocketeer Mother\n",
      "- Rollercoaster Bringing\n",
      "- Runner Madigan\n",
      "- Secretary Rouge\n",
      "- Sensibility Rear\n",
      "- Shepherd Midsummer\n",
      "- Sling Luke\n",
      "- Soup Wisdom\n",
      "- South Wait\n",
      "- Speed Suit\n",
      "- Sweden Shining\n",
      "- Teen Apollo\n",
      "- Tequila Past\n",
      "- Train Bunch\n",
      "- Unbreakable Karate\n",
      "- Virgin Daisy\n",
      "- Window Side\n",
      "- Wizard Coldblooded\n",
      "- Wolves Desire\n",
      "- World Leathernecks\n",
      "- Wyoming Storm\n"
     ]
    }
   ],
   "source": [
    "print(\n",
    "    sql_run_chain.invoke(\n",
    "        {\"question\": \"Give me names of movies where description contains Robot\"}\n",
    "    )\n",
    ")"
   ]
  },
  {
   "cell_type": "code",
   "execution_count": null,
   "metadata": {},
   "outputs": [],
   "source": []
  }
 ],
 "metadata": {
  "kernelspec": {
   "display_name": "test-lab-310",
   "language": "python",
   "name": "python3"
  },
  "language_info": {
   "codemirror_mode": {
    "name": "ipython",
    "version": 3
   },
   "file_extension": ".py",
   "mimetype": "text/x-python",
   "name": "python",
   "nbconvert_exporter": "python",
   "pygments_lexer": "ipython3",
   "version": "3.10.13"
  }
 },
 "nbformat": 4,
 "nbformat_minor": 2
}
